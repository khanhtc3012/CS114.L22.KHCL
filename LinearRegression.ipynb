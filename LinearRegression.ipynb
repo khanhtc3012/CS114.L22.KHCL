{
  "nbformat": 4,
  "nbformat_minor": 0,
  "metadata": {
    "colab": {
      "name": "Untitled2.ipynb",
      "provenance": []
    },
    "kernelspec": {
      "name": "python3",
      "display_name": "Python 3"
    },
    "language_info": {
      "name": "python"
    }
  },
  "cells": [
    {
      "cell_type": "markdown",
      "metadata": {
        "id": "t-rcipxvL39v"
      },
      "source": [
        "**Bài toán : Dự đoán thời gian chạy của chương trình.**"
      ]
    },
    {
      "cell_type": "markdown",
      "metadata": {
        "id": "T8lq-uVtMEsi"
      },
      "source": [
        "**-Thành viên nhóm:**\n",
        "\n",
        "Phạm Nguyễn Công Danh - 19521324\n",
        "\n",
        "Trần Công Khanh - 18520904\n",
        "\n",
        "Nguyễn Khắc Cảnh - 18520854\n",
        "\n",
        "**- Nguồn tham khảo:**\n",
        "\n",
        "https://scikit-learn.org/stable/modules/classes.html#module-sklearn.linear_model\n",
        "\n",
        "https://scikit-learn.org/stable/modules/linear_model.html#generalized-linear-regression"
      ]
    },
    {
      "cell_type": "code",
      "metadata": {
        "id": "erE6Fmd4M3fx"
      },
      "source": [
        "import numpy as np\n",
        "import pandas as pd\n",
        "from sklearn.linear_model import LinearRegression\n",
        "from sklearn.preprocessing import StandardScaler\n",
        "from sklearn.metrics import mean_squared_error,mean_absolute_error\n",
        "import matplotlib.pyplot as plt"
      ],
      "execution_count": 21,
      "outputs": []
    },
    {
      "cell_type": "code",
      "metadata": {
        "id": "SiwvXZQXMrsH"
      },
      "source": [
        "colnames = ['Sizes', 'Times']\n",
        "file_train = pd.read_csv(\"http://cs.uit.edu.vn/data2.txt\", names=colnames)\n",
        "file_test = pd.read_csv(\"https://cs.uit.edu.vn/data3.txt\", names=colnames)\n",
        "\n",
        "# Dữ liệu train\n",
        "x_train = np.array(file_train['Sizes']).reshape(-1, 1)\n",
        "y_train = np.array(file_train['Times'])\n",
        "# Dữ liệu test\n",
        "x_test = np.array(file_test['Sizes']).reshape(-1, 1)\n",
        "y_test = np.array(file_test['Times'])\n"
      ],
      "execution_count": 8,
      "outputs": []
    },
    {
      "cell_type": "code",
      "metadata": {
        "colab": {
          "base_uri": "https://localhost:8080/"
        },
        "id": "hPNBrz3bNU9P",
        "outputId": "1ae2c47d-1106-49b8-faa1-8e1c6f2bdc69"
      },
      "source": [
        "model = LinearRegression().fit(x_train, y_train)\n",
        "\n",
        "# Mean squared error of data train\n",
        "y_train_pred = model.predict(x_train)\n",
        "print('Mean square error of data train:', mean_squared_error(y_train, y_train_pred))\n",
        "print('Mean absoulute error of data train:', mean_absolute_error(y_train, y_train_pred))\n"
      ],
      "execution_count": 22,
      "outputs": [
        {
          "output_type": "stream",
          "text": [
            "Mean square error of data train: 0.00014337728721748835\n",
            "Mean absoulute error of data train: 0.008291970317762349\n"
          ],
          "name": "stdout"
        }
      ]
    },
    {
      "cell_type": "code",
      "metadata": {
        "colab": {
          "base_uri": "https://localhost:8080/",
          "height": 366
        },
        "id": "TZ8MTBNGOFJq",
        "outputId": "cfac05e6-af6b-4eb1-af9c-6e3761c47422"
      },
      "source": [
        "_, ax_train = plt.subplots(nrows=1, ncols=1, figsize=(10, 5))\n",
        "ax_train.plot(x_train, y_train, color='blue')\n",
        "ax_train.plot(x_train, y_train_pred_, color='red', linewidth=5)\n",
        "ax_train.set_title(\"Data train\")"
      ],
      "execution_count": 17,
      "outputs": [
        {
          "output_type": "execute_result",
          "data": {
            "text/plain": [
              "Text(0.5, 1.0, 'Data train')"
            ]
          },
          "metadata": {
            "tags": []
          },
          "execution_count": 17
        },
        {
          "output_type": "display_data",
          "data": {
            "image/png": "[encoded data removed]",
            "text/plain": [
              "<Figure size 720x360 with 1 Axes>"
            ]
          },
          "metadata": {
            "tags": [],
            "needs_background": "light"
          }
        }
      ]
    },
    {
      "cell_type": "code",
      "metadata": {
        "id": "sEox7k8cbc9W",
        "colab": {
          "base_uri": "https://localhost:8080/"
        },
        "outputId": "095f8219-bd73-46e5-ed71-ca7bed77f1a8"
      },
      "source": [
        "y_test_pred = model.predict(x_test)\n",
        "print('Mean square error of data test:', mean_squared_error(y_test, y_test_pred))\n",
        "print('Mean square error of data test:', mean_absolute_error(y_test, y_test_pred))"
      ],
      "execution_count": 23,
      "outputs": [
        {
          "output_type": "stream",
          "text": [
            "Mean square error of data test: 0.020664949397549082\n",
            "Mean square error of data test: 0.12271198006925235\n"
          ],
          "name": "stdout"
        }
      ]
    },
    {
      "cell_type": "code",
      "metadata": {
        "colab": {
          "base_uri": "https://localhost:8080/",
          "height": 366
        },
        "id": "s9mCDmfXOe84",
        "outputId": "7465cf52-d5cb-493f-c9ee-0af522478fc9"
      },
      "source": [
        "_, ax_test = plt.subplots(nrows=1, ncols=1, figsize=(10, 5))\n",
        "ax_test.plot(x_test, y_test, color='blue')\n",
        "ax_test.plot(x_test, y_test_pred, color='red', linewidth=5)\n",
        "ax_test.set_title(\"Data test\")"
      ],
      "execution_count": 19,
      "outputs": [
        {
          "output_type": "execute_result",
          "data": {
            "text/plain": [
              "Text(0.5, 1.0, 'Data test')"
            ]
          },
          "metadata": {
            "tags": []
          },
          "execution_count": 19
        },
        {
          "output_type": "display_data",
          "data": {
            "image/png": "[encoded data removed]",
            "text/plain": [
              "<Figure size 720x360 with 1 Axes>"
            ]
          },
          "metadata": {
            "tags": [],
            "needs_background": "light"
          }
        }
      ]
    },
    {
      "cell_type": "markdown",
      "metadata": {
        "id": "23y630naQDBl"
      },
      "source": [
        "**SCALE DATA**\n",
        "\n",
        "- x = x * log(x)\n",
        "- x = x*2\n",
        "- x = sqrt(x)\n",
        "- x = log(x)"
      ]
    },
    {
      "cell_type": "code",
      "metadata": {
        "id": "y1kKGb-xQGeD"
      },
      "source": [
        "def Feature1(x):\n",
        "  return x * np.log(x)"
      ],
      "execution_count": 24,
      "outputs": []
    },
    {
      "cell_type": "code",
      "metadata": {
        "id": "sZJcQ3XGRBd_"
      },
      "source": [
        "def Feature2(x):\n",
        "  return x**2"
      ],
      "execution_count": 30,
      "outputs": []
    },
    {
      "cell_type": "code",
      "metadata": {
        "id": "dW7_0jafRXFd"
      },
      "source": [
        "def Feature3(x):\n",
        "    return np.sqrt(x)"
      ],
      "execution_count": 32,
      "outputs": []
    },
    {
      "cell_type": "code",
      "metadata": {
        "id": "e2vgHZZsRZ1s"
      },
      "source": [
        "def Feature4(x):\n",
        "    return np.log(x)"
      ],
      "execution_count": 33,
      "outputs": []
    },
    {
      "cell_type": "code",
      "metadata": {
        "colab": {
          "base_uri": "https://localhost:8080/"
        },
        "id": "BhcWPFprQbdj",
        "outputId": "9f5841ae-5407-4fcd-dfc9-a3b632c34b2a"
      },
      "source": [
        "model1 = LinearRegression().fit(Feature1(x_train), y_train)\n",
        "\n",
        "y_train_pred = model1.predict(Feature1(x_train))\n",
        "print('Mean square error of data train:', mean_squared_error(y_train, y_train_pred))\n",
        "print('Mean absoulute error of data train:', mean_absolute_error(y_train, y_train_pred))"
      ],
      "execution_count": 26,
      "outputs": [
        {
          "output_type": "stream",
          "text": [
            "Mean square error of data train: 0.00012203439798746085\n",
            "Mean absoulute error of data train: 0.006899424814228178\n"
          ],
          "name": "stdout"
        }
      ]
    },
    {
      "cell_type": "code",
      "metadata": {
        "colab": {
          "base_uri": "https://localhost:8080/"
        },
        "id": "NcN3DfUzQ2rG",
        "outputId": "7631d62f-c904-4a19-a58b-a14725f4def7"
      },
      "source": [
        "model2 = LinearRegression().fit(Feature2(x_train), y_train)\n",
        "\n",
        "y_train_pred = model2.predict(Feature2(x_train))\n",
        "print('Mean square error of data train:', mean_squared_error(y_train, y_train_pred))\n",
        "print('Mean absoulute error of data train:', mean_absolute_error(y_train, y_train_pred))"
      ],
      "execution_count": 31,
      "outputs": [
        {
          "output_type": "stream",
          "text": [
            "Mean square error of data train: 0.0033353302931308356\n",
            "Mean absoulute error of data train: 0.048987050937931216\n"
          ],
          "name": "stdout"
        }
      ]
    },
    {
      "cell_type": "code",
      "metadata": {
        "colab": {
          "base_uri": "https://localhost:8080/"
        },
        "id": "_LSYv1Z8RlFD",
        "outputId": "16573dd9-d84a-46db-f7cd-8f83388534d7"
      },
      "source": [
        "model3 = LinearRegression().fit(Feature3(x_train), y_train)\n",
        "\n",
        "y_train_pred = model3.predict(Feature3(x_train))\n",
        "print('Mean square error of data train:', mean_squared_error(y_train, y_train_pred))\n",
        "print('Mean absoulute error of data train:', mean_absolute_error(y_train, y_train_pred))"
      ],
      "execution_count": 34,
      "outputs": [
        {
          "output_type": "stream",
          "text": [
            "Mean square error of data train: 0.0029629838236181426\n",
            "Mean absoulute error of data train: 0.0442600235201748\n"
          ],
          "name": "stdout"
        }
      ]
    },
    {
      "cell_type": "code",
      "metadata": {
        "colab": {
          "base_uri": "https://localhost:8080/"
        },
        "id": "nJqA-GMjRlin",
        "outputId": "85367c71-ccef-4688-a92a-dd08a74f4275"
      },
      "source": [
        "model4 = LinearRegression().fit(Feature4(x_train), y_train)\n",
        "\n",
        "y_train_pred = model4.predict(Feature4(x_train))\n",
        "print('Mean square error of data train:', mean_squared_error(y_train, y_train_pred))\n",
        "print('Mean absoulute error of data train:', mean_absolute_error(y_train, y_train_pred))"
      ],
      "execution_count": 35,
      "outputs": [
        {
          "output_type": "stream",
          "text": [
            "Mean square error of data train: 0.015911124262733084\n",
            "Mean absoulute error of data train: 0.10132358795296757\n"
          ],
          "name": "stdout"
        }
      ]
    },
    {
      "cell_type": "markdown",
      "metadata": {
        "id": "RSGhqO_PQbRN"
      },
      "source": [
        "**Kết luận**\n",
        "\n",
        "Sau khi kiểm thử trên nhiều feature (x, xlog(x), log(x), sqrt(x), x^2) nhóm chúng em nhận thấy với x = xlog(x) thì module dự đoán tốt nhất vì MAE và MSE sấp xỉ bằng nhau và thấp nhất trong các feature nêu trên."
      ]
    }
  ]
}